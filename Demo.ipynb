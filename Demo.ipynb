{
 "cells": [
  {
   "cell_type": "markdown",
   "id": "d566826c-f556-493d-b8bf-904a75076893",
   "metadata": {},
   "source": [
    "# Introduction to Python\n",
    "## Output\n",
    "To print, use `print(\"Hello\")`.\n",
    "\n",
    "* My list\n",
    "* More list\n"
   ]
  },
  {
   "cell_type": "code",
   "execution_count": 3,
   "id": "0c93078d-3da7-4b72-9071-cc662ac411d9",
   "metadata": {},
   "outputs": [
    {
     "name": "stdout",
     "output_type": "stream",
     "text": [
      "Hello\n",
      "1\n"
     ]
    },
    {
     "data": {
      "text/plain": [
       "'From first cell'"
      ]
     },
     "execution_count": 3,
     "metadata": {},
     "output_type": "execute_result"
    }
   ],
   "source": [
    "print(\"Hello\")\n",
    "print(1)\n",
    "x = \"From first cell\"\n",
    "if False:\n",
    "    print(\"this will always happen\")\n",
    "x"
   ]
  },
  {
   "cell_type": "code",
   "execution_count": 4,
   "id": "557b98aa-87f7-430b-b4b0-76fe47ccb212",
   "metadata": {},
   "outputs": [
    {
     "name": "stdout",
     "output_type": "stream",
     "text": [
      "From first cell\n"
     ]
    }
   ],
   "source": [
    "print(x)"
   ]
  }
 ],
 "metadata": {
  "kernelspec": {
   "display_name": "Python 3 (ipykernel)",
   "language": "python",
   "name": "python3"
  },
  "language_info": {
   "codemirror_mode": {
    "name": "ipython",
    "version": 3
   },
   "file_extension": ".py",
   "mimetype": "text/x-python",
   "name": "python",
   "nbconvert_exporter": "python",
   "pygments_lexer": "ipython3",
   "version": "3.10.9"
  }
 },
 "nbformat": 4,
 "nbformat_minor": 5
}
